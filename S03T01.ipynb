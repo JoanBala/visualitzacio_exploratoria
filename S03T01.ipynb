{
 "cells": [
  {
   "cell_type": "markdown",
   "id": "6f7fbb72",
   "metadata": {},
   "source": [
    "# Sprint 3. Visualització de les dades  \n",
    "Durada : 10 dies  \n",
    "__Objectiu general:__ Entendre i aplicar les diferents tècniques de visualització amb Python  \n",
    "\n",
    "__Objectius específics:__ Conèixer les diferents llibreries Matplotlib i Seaborn"
   ]
  },
  {
   "cell_type": "markdown",
   "id": "5208f698",
   "metadata": {},
   "source": [
    "## 1- Llibreries de visualització\n",
    "\n",
    "En aquest llibre veurem la llibreria Matplotlib i Seaborn que s'utilitzen per visualitzar dades. A data science, moltes vegades abans de començar a treballar amb les dades, es fan algunes visualitzaciones per conèixer-les una mica millor.  \n",
    "Et recomano que miris també aquesta pàgina https://www.data-to-viz.com on t'aconsella diferents tipus de gràfiques que es poden fer segons les dades que tinguis. Em sembla iteressant perquè apareixen gràfiques originals.\n",
    "\n",
    "Cal tenir en compte que aquestes llibreries són recomanacions que et fem, però que si conèixes d'altres que t'agraden més pots sentir-te lliure en utilitzar-les sobretot en aquelles tasques més obertes on promovem la teva creativitat."
   ]
  },
  {
   "cell_type": "markdown",
   "id": "1a88ab01",
   "metadata": {},
   "source": [
    "### Llibreries:"
   ]
  },
  {
   "cell_type": "markdown",
   "id": "00f132d5",
   "metadata": {},
   "source": [
    "___1.1- Llibreria Matplotlib:___\n",
    "\n",
    "* Llibreria de visualització amb Python. Secció completa: [Introducció Matplotlib](https://www.w3schools.com/python/matplotlib_intro.asp)\n",
    "\n",
    "* Introducció a Matplotlib (complementària): [PyPlot](https://matplotlib.org/tutorials/introductory/pyplot.html)\n",
    "\n",
    "* Galeria Matplotlib: [Gallery](https://matplotlib.org/gallery/index.html)\n",
    "\n",
    "___1.2- Llibreria de Seaborn i altres recursos complementaris:___\n",
    "\n",
    "* Una altra llibreria de visualització per Python: [Introducció Seaborn](https://seaborn.pydata.org/tutorial/function_overview.html)\n",
    "\n",
    "* Galeria Seaborn: [Gallery](https://seaborn.pydata.org/examples/index.html)\n",
    "\n",
    "* Seaborn Cheatsheet\n",
    "\n",
    "* Recursos complementaris interessants:  \n",
    "    Seguidament, tindreu a la vostre disposició 3 enllaços molt útils per rebre informació complementària.  \n",
    "    https://datavizcatalogue.com/  \n",
    "    https://www.data-to-viz.com/  \n",
    "    http://www-personal.umich.edu/~mejn/election/2016/"
   ]
  },
  {
   "cell_type": "markdown",
   "id": "6fd1a40c",
   "metadata": {},
   "source": [
    "## 2- Matplotlib Cheatsheet & Seaborn Cheesheat (documents)"
   ]
  },
  {
   "cell_type": "markdown",
   "id": "91c48172",
   "metadata": {},
   "source": [
    "### Full de trucs d'ambdues llibreries:   \n",
    "[Matplotlib CheatSheet](Cheatsheet%20-%20Matplotlib.png) | [Seaborn CheatSheet](Cheatsheet%20-%20Seaborn.png)"
   ]
  },
  {
   "cell_type": "markdown",
   "id": "8277846f",
   "metadata": {},
   "source": [
    "----"
   ]
  },
  {
   "cell_type": "code",
   "execution_count": null,
   "id": "13a49185",
   "metadata": {},
   "outputs": [],
   "source": []
  },
  {
   "cell_type": "code",
   "execution_count": null,
   "id": "143c1d2c",
   "metadata": {},
   "outputs": [],
   "source": []
  },
  {
   "cell_type": "code",
   "execution_count": null,
   "id": "a69cb7e2",
   "metadata": {},
   "outputs": [],
   "source": []
  },
  {
   "cell_type": "markdown",
   "id": "6d25790a",
   "metadata": {},
   "source": [
    "# S03 T01: Visualització gràfica d'un dataset\n",
    "\n",
    "Complementa les tècniques d'exploració de les dades mitjantçant la visualització gràfica, amb les llibreries Matplotlib i Searborn.\n",
    "\n",
    "## Nivell 1\n",
    "\n",
    "* ### Exercici 1\n",
    "\n",
    "Resumeix gràficament el data set DelayedFlights.csv\n",
    "\n",
    "Crea almenys una visualització per:\n",
    "\n",
    "    Una variable categòrica (UniqueCarrier)\n",
    "    Una variable numèrica (ArrDelay)\n",
    "    Una variable numèrica i una categòrica (ArrDelay i UniqueCarrier)\n",
    "    Dues variables numèriques (ArrDelay i DepDelay)\n",
    "    Tres variables (ArrDelay, DepDelay i UniqueCarrier)\n",
    "    Més de tres variables (ArrDelay, DepDelay, AirTime i UniqueCarrier)."
   ]
  },
  {
   "cell_type": "code",
   "execution_count": null,
   "id": "60a83daf",
   "metadata": {},
   "outputs": [],
   "source": []
  },
  {
   "cell_type": "markdown",
   "id": "09354d98",
   "metadata": {},
   "source": [
    "* ### Exercici 2\n",
    "\n",
    "Exporta els gràfics com imatges o com html."
   ]
  },
  {
   "cell_type": "code",
   "execution_count": null,
   "id": "49e7924c",
   "metadata": {},
   "outputs": [],
   "source": []
  },
  {
   "cell_type": "markdown",
   "id": "b9ee2f1c",
   "metadata": {},
   "source": [
    "* ### Exercici 3\n",
    "\n",
    "Integra les visualitzacions gràfiques, en la tasca 5, de l'Sprint 2."
   ]
  },
  {
   "cell_type": "code",
   "execution_count": null,
   "id": "cb666d61",
   "metadata": {},
   "outputs": [],
   "source": []
  }
 ],
 "metadata": {
  "kernelspec": {
   "display_name": "Python 3",
   "language": "python",
   "name": "python3"
  },
  "language_info": {
   "codemirror_mode": {
    "name": "ipython",
    "version": 3
   },
   "file_extension": ".py",
   "mimetype": "text/x-python",
   "name": "python",
   "nbconvert_exporter": "python",
   "pygments_lexer": "ipython3",
   "version": "3.8.8"
  }
 },
 "nbformat": 4,
 "nbformat_minor": 5
}
