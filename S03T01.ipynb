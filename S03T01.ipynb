{
 "cells": [
  {
   "cell_type": "markdown",
   "id": "6f7fbb72",
   "metadata": {
    "heading_collapsed": true
   },
   "source": [
    "# Sprint 3. Visualització de les dades  \n",
    "Durada : 10 dies  \n",
    "__Objectiu general:__ Entendre i aplicar les diferents tècniques de visualització amb Python  \n",
    "\n",
    "__Objectius específics:__ Conèixer les diferents llibreries Matplotlib i Seaborn"
   ]
  },
  {
   "cell_type": "markdown",
   "id": "9a7e89e8",
   "metadata": {
    "heading_collapsed": true,
    "hidden": true
   },
   "source": [
    "## 1- Llibreries de visualització"
   ]
  },
  {
   "cell_type": "markdown",
   "id": "5208f698",
   "metadata": {
    "hidden": true
   },
   "source": [
    "En aquest llibre veurem la llibreria Matplotlib i Seaborn que s'utilitzen per visualitzar dades. A data science, moltes vegades abans de començar a treballar amb les dades, es fan algunes visualitzaciones per conèixer-les una mica millor.  \n",
    "Et recomano que miris també aquesta pàgina https://www.data-to-viz.com on t'aconsella diferents tipus de gràfiques que es poden fer segons les dades que tinguis. Em sembla iteressant perquè apareixen gràfiques originals.\n",
    "\n",
    "Cal tenir en compte que aquestes llibreries són recomanacions que et fem, però que si conèixes d'altres que t'agraden més pots sentir-te lliure en utilitzar-les sobretot en aquelles tasques més obertes on promovem la teva creativitat."
   ]
  },
  {
   "cell_type": "markdown",
   "id": "1a88ab01",
   "metadata": {
    "hidden": true
   },
   "source": [
    "### Llibreries:"
   ]
  },
  {
   "cell_type": "markdown",
   "id": "00f132d5",
   "metadata": {
    "hidden": true
   },
   "source": [
    "___1.1- Llibreria Matplotlib:___\n",
    "\n",
    "* Llibreria de visualització amb Python. Secció completa: [Introducció Matplotlib](https://www.w3schools.com/python/matplotlib_intro.asp)\n",
    "\n",
    "* Introducció a Matplotlib (complementària): [PyPlot](https://matplotlib.org/tutorials/introductory/pyplot.html)\n",
    "\n",
    "* Galeria Matplotlib: [Gallery](https://matplotlib.org/stable/gallery/index.html)\n",
    "\n",
    "___1.2- Llibreria de Seaborn i altres recursos complementaris:___\n",
    "\n",
    "* Una altra llibreria de visualització per Python: [Introducció Seaborn](https://seaborn.pydata.org/tutorial/function_overview.html)\n",
    "\n",
    "* Galeria Seaborn: [Gallery](https://seaborn.pydata.org/examples/index.html)\n",
    "\n",
    "* Seaborn Cheatsheet\n",
    "\n",
    "* Recursos complementaris interessants:  \n",
    "    Seguidament, tindreu a la vostre disposició 3 enllaços molt útils per rebre informació complementària.  \n",
    "    https://datavizcatalogue.com/  \n",
    "    https://www.data-to-viz.com/  \n",
    "    http://www-personal.umich.edu/~mejn/election/2016/"
   ]
  },
  {
   "cell_type": "markdown",
   "id": "6fd1a40c",
   "metadata": {
    "heading_collapsed": true,
    "hidden": true
   },
   "source": [
    "## 2- Matplotlib Cheatsheet & Seaborn Cheesheat (documents)"
   ]
  },
  {
   "cell_type": "markdown",
   "id": "91c48172",
   "metadata": {
    "hidden": true
   },
   "source": [
    "_Full de trucs d'ambdues llibreries:_ [Matplotlib CheatSheet](Cheatsheet%20-%20Matplotlib.png) | [Seaborn CheatSheet](Cheatsheet%20-%20Seaborn.png)"
   ]
  },
  {
   "cell_type": "markdown",
   "id": "8277846f",
   "metadata": {
    "hidden": true
   },
   "source": [
    "----"
   ]
  },
  {
   "cell_type": "markdown",
   "id": "cbd93f3e",
   "metadata": {},
   "source": [
    "# S03 T01: Visualització gràfica d'un dataset\n",
    "\n",
    "Complementa les tècniques d'exploració de les dades mitjantçant la visualització gràfica, amb les llibreries Matplotlib i Searborn."
   ]
  },
  {
   "cell_type": "markdown",
   "id": "0f9478a6",
   "metadata": {},
   "source": [
    "## Nivell 1"
   ]
  },
  {
   "cell_type": "markdown",
   "id": "6d25790a",
   "metadata": {},
   "source": [
    "### * Exercici 1\n",
    "\n",
    "Resumeix gràficament el data set DelayedFlights.csv\n",
    "\n",
    "Crea almenys una visualització per:\n",
    "\n",
    "    Una variable categòrica (UniqueCarrier)\n",
    "    Una variable numèrica (ArrDelay)\n",
    "    Una variable numèrica i una categòrica (ArrDelay i UniqueCarrier)\n",
    "    Dues variables numèriques (ArrDelay i DepDelay)\n",
    "    Tres variables (ArrDelay, DepDelay i UniqueCarrier)\n",
    "    Més de tres variables (ArrDelay, DepDelay, AirTime i UniqueCarrier)."
   ]
  },
  {
   "cell_type": "code",
   "execution_count": 3,
   "id": "3b4f0124",
   "metadata": {},
   "outputs": [],
   "source": [
    "import numpy as np\n",
    "import pandas as pd\n",
    "import matplotlib.pyplot as plt\n",
    "import seaborn as sns\n",
    "\n",
    "## Per poder visualitzar totes les columnes dels DataFrames del NoteBook:\n",
    "#from IPython.display import display\n",
    "#pd.set_option('display.max_columns', None)\n"
   ]
  },
  {
   "cell_type": "markdown",
   "id": "ee606690",
   "metadata": {},
   "source": [
    "#### First we charge our DataSet and prepare it cleaning and selecting data"
   ]
  },
  {
   "cell_type": "code",
   "execution_count": 4,
   "id": "ceb2c8a2",
   "metadata": {},
   "outputs": [
    {
     "data": {
      "text/html": [
       "<div>\n",
       "<style scoped>\n",
       "    .dataframe tbody tr th:only-of-type {\n",
       "        vertical-align: middle;\n",
       "    }\n",
       "\n",
       "    .dataframe tbody tr th {\n",
       "        vertical-align: top;\n",
       "    }\n",
       "\n",
       "    .dataframe thead th {\n",
       "        text-align: right;\n",
       "    }\n",
       "</style>\n",
       "<table border=\"1\" class=\"dataframe\">\n",
       "  <thead>\n",
       "    <tr style=\"text-align: right;\">\n",
       "      <th></th>\n",
       "      <th>Unnamed: 0</th>\n",
       "      <th>Year</th>\n",
       "      <th>Month</th>\n",
       "      <th>DayofMonth</th>\n",
       "      <th>DayOfWeek</th>\n",
       "      <th>DepTime</th>\n",
       "      <th>CRSDepTime</th>\n",
       "      <th>ArrTime</th>\n",
       "      <th>CRSArrTime</th>\n",
       "      <th>UniqueCarrier</th>\n",
       "      <th>...</th>\n",
       "      <th>TaxiIn</th>\n",
       "      <th>TaxiOut</th>\n",
       "      <th>Cancelled</th>\n",
       "      <th>CancellationCode</th>\n",
       "      <th>Diverted</th>\n",
       "      <th>CarrierDelay</th>\n",
       "      <th>WeatherDelay</th>\n",
       "      <th>NASDelay</th>\n",
       "      <th>SecurityDelay</th>\n",
       "      <th>LateAircraftDelay</th>\n",
       "    </tr>\n",
       "  </thead>\n",
       "  <tbody>\n",
       "    <tr>\n",
       "      <th>0</th>\n",
       "      <td>0</td>\n",
       "      <td>2008</td>\n",
       "      <td>1</td>\n",
       "      <td>3</td>\n",
       "      <td>4</td>\n",
       "      <td>2003.0</td>\n",
       "      <td>1955</td>\n",
       "      <td>2211.0</td>\n",
       "      <td>2225</td>\n",
       "      <td>WN</td>\n",
       "      <td>...</td>\n",
       "      <td>4.0</td>\n",
       "      <td>8.0</td>\n",
       "      <td>0</td>\n",
       "      <td>N</td>\n",
       "      <td>0</td>\n",
       "      <td>NaN</td>\n",
       "      <td>NaN</td>\n",
       "      <td>NaN</td>\n",
       "      <td>NaN</td>\n",
       "      <td>NaN</td>\n",
       "    </tr>\n",
       "    <tr>\n",
       "      <th>1</th>\n",
       "      <td>1</td>\n",
       "      <td>2008</td>\n",
       "      <td>1</td>\n",
       "      <td>3</td>\n",
       "      <td>4</td>\n",
       "      <td>754.0</td>\n",
       "      <td>735</td>\n",
       "      <td>1002.0</td>\n",
       "      <td>1000</td>\n",
       "      <td>WN</td>\n",
       "      <td>...</td>\n",
       "      <td>5.0</td>\n",
       "      <td>10.0</td>\n",
       "      <td>0</td>\n",
       "      <td>N</td>\n",
       "      <td>0</td>\n",
       "      <td>NaN</td>\n",
       "      <td>NaN</td>\n",
       "      <td>NaN</td>\n",
       "      <td>NaN</td>\n",
       "      <td>NaN</td>\n",
       "    </tr>\n",
       "    <tr>\n",
       "      <th>2</th>\n",
       "      <td>2</td>\n",
       "      <td>2008</td>\n",
       "      <td>1</td>\n",
       "      <td>3</td>\n",
       "      <td>4</td>\n",
       "      <td>628.0</td>\n",
       "      <td>620</td>\n",
       "      <td>804.0</td>\n",
       "      <td>750</td>\n",
       "      <td>WN</td>\n",
       "      <td>...</td>\n",
       "      <td>3.0</td>\n",
       "      <td>17.0</td>\n",
       "      <td>0</td>\n",
       "      <td>N</td>\n",
       "      <td>0</td>\n",
       "      <td>NaN</td>\n",
       "      <td>NaN</td>\n",
       "      <td>NaN</td>\n",
       "      <td>NaN</td>\n",
       "      <td>NaN</td>\n",
       "    </tr>\n",
       "    <tr>\n",
       "      <th>3</th>\n",
       "      <td>4</td>\n",
       "      <td>2008</td>\n",
       "      <td>1</td>\n",
       "      <td>3</td>\n",
       "      <td>4</td>\n",
       "      <td>1829.0</td>\n",
       "      <td>1755</td>\n",
       "      <td>1959.0</td>\n",
       "      <td>1925</td>\n",
       "      <td>WN</td>\n",
       "      <td>...</td>\n",
       "      <td>3.0</td>\n",
       "      <td>10.0</td>\n",
       "      <td>0</td>\n",
       "      <td>N</td>\n",
       "      <td>0</td>\n",
       "      <td>2.0</td>\n",
       "      <td>0.0</td>\n",
       "      <td>0.0</td>\n",
       "      <td>0.0</td>\n",
       "      <td>32.0</td>\n",
       "    </tr>\n",
       "    <tr>\n",
       "      <th>4</th>\n",
       "      <td>5</td>\n",
       "      <td>2008</td>\n",
       "      <td>1</td>\n",
       "      <td>3</td>\n",
       "      <td>4</td>\n",
       "      <td>1940.0</td>\n",
       "      <td>1915</td>\n",
       "      <td>2121.0</td>\n",
       "      <td>2110</td>\n",
       "      <td>WN</td>\n",
       "      <td>...</td>\n",
       "      <td>4.0</td>\n",
       "      <td>10.0</td>\n",
       "      <td>0</td>\n",
       "      <td>N</td>\n",
       "      <td>0</td>\n",
       "      <td>NaN</td>\n",
       "      <td>NaN</td>\n",
       "      <td>NaN</td>\n",
       "      <td>NaN</td>\n",
       "      <td>NaN</td>\n",
       "    </tr>\n",
       "    <tr>\n",
       "      <th>...</th>\n",
       "      <td>...</td>\n",
       "      <td>...</td>\n",
       "      <td>...</td>\n",
       "      <td>...</td>\n",
       "      <td>...</td>\n",
       "      <td>...</td>\n",
       "      <td>...</td>\n",
       "      <td>...</td>\n",
       "      <td>...</td>\n",
       "      <td>...</td>\n",
       "      <td>...</td>\n",
       "      <td>...</td>\n",
       "      <td>...</td>\n",
       "      <td>...</td>\n",
       "      <td>...</td>\n",
       "      <td>...</td>\n",
       "      <td>...</td>\n",
       "      <td>...</td>\n",
       "      <td>...</td>\n",
       "      <td>...</td>\n",
       "      <td>...</td>\n",
       "    </tr>\n",
       "    <tr>\n",
       "      <th>1936753</th>\n",
       "      <td>7009710</td>\n",
       "      <td>2008</td>\n",
       "      <td>12</td>\n",
       "      <td>13</td>\n",
       "      <td>6</td>\n",
       "      <td>1250.0</td>\n",
       "      <td>1220</td>\n",
       "      <td>1617.0</td>\n",
       "      <td>1552</td>\n",
       "      <td>DL</td>\n",
       "      <td>...</td>\n",
       "      <td>9.0</td>\n",
       "      <td>18.0</td>\n",
       "      <td>0</td>\n",
       "      <td>N</td>\n",
       "      <td>0</td>\n",
       "      <td>3.0</td>\n",
       "      <td>0.0</td>\n",
       "      <td>0.0</td>\n",
       "      <td>0.0</td>\n",
       "      <td>22.0</td>\n",
       "    </tr>\n",
       "    <tr>\n",
       "      <th>1936754</th>\n",
       "      <td>7009717</td>\n",
       "      <td>2008</td>\n",
       "      <td>12</td>\n",
       "      <td>13</td>\n",
       "      <td>6</td>\n",
       "      <td>657.0</td>\n",
       "      <td>600</td>\n",
       "      <td>904.0</td>\n",
       "      <td>749</td>\n",
       "      <td>DL</td>\n",
       "      <td>...</td>\n",
       "      <td>15.0</td>\n",
       "      <td>34.0</td>\n",
       "      <td>0</td>\n",
       "      <td>N</td>\n",
       "      <td>0</td>\n",
       "      <td>0.0</td>\n",
       "      <td>57.0</td>\n",
       "      <td>18.0</td>\n",
       "      <td>0.0</td>\n",
       "      <td>0.0</td>\n",
       "    </tr>\n",
       "    <tr>\n",
       "      <th>1936755</th>\n",
       "      <td>7009718</td>\n",
       "      <td>2008</td>\n",
       "      <td>12</td>\n",
       "      <td>13</td>\n",
       "      <td>6</td>\n",
       "      <td>1007.0</td>\n",
       "      <td>847</td>\n",
       "      <td>1149.0</td>\n",
       "      <td>1010</td>\n",
       "      <td>DL</td>\n",
       "      <td>...</td>\n",
       "      <td>8.0</td>\n",
       "      <td>32.0</td>\n",
       "      <td>0</td>\n",
       "      <td>N</td>\n",
       "      <td>0</td>\n",
       "      <td>1.0</td>\n",
       "      <td>0.0</td>\n",
       "      <td>19.0</td>\n",
       "      <td>0.0</td>\n",
       "      <td>79.0</td>\n",
       "    </tr>\n",
       "    <tr>\n",
       "      <th>1936756</th>\n",
       "      <td>7009726</td>\n",
       "      <td>2008</td>\n",
       "      <td>12</td>\n",
       "      <td>13</td>\n",
       "      <td>6</td>\n",
       "      <td>1251.0</td>\n",
       "      <td>1240</td>\n",
       "      <td>1446.0</td>\n",
       "      <td>1437</td>\n",
       "      <td>DL</td>\n",
       "      <td>...</td>\n",
       "      <td>13.0</td>\n",
       "      <td>13.0</td>\n",
       "      <td>0</td>\n",
       "      <td>N</td>\n",
       "      <td>0</td>\n",
       "      <td>NaN</td>\n",
       "      <td>NaN</td>\n",
       "      <td>NaN</td>\n",
       "      <td>NaN</td>\n",
       "      <td>NaN</td>\n",
       "    </tr>\n",
       "    <tr>\n",
       "      <th>1936757</th>\n",
       "      <td>7009727</td>\n",
       "      <td>2008</td>\n",
       "      <td>12</td>\n",
       "      <td>13</td>\n",
       "      <td>6</td>\n",
       "      <td>1110.0</td>\n",
       "      <td>1103</td>\n",
       "      <td>1413.0</td>\n",
       "      <td>1418</td>\n",
       "      <td>DL</td>\n",
       "      <td>...</td>\n",
       "      <td>8.0</td>\n",
       "      <td>11.0</td>\n",
       "      <td>0</td>\n",
       "      <td>N</td>\n",
       "      <td>0</td>\n",
       "      <td>NaN</td>\n",
       "      <td>NaN</td>\n",
       "      <td>NaN</td>\n",
       "      <td>NaN</td>\n",
       "      <td>NaN</td>\n",
       "    </tr>\n",
       "  </tbody>\n",
       "</table>\n",
       "<p>1936758 rows × 30 columns</p>\n",
       "</div>"
      ],
      "text/plain": [
       "         Unnamed: 0  Year  Month  DayofMonth  DayOfWeek  DepTime  CRSDepTime  \\\n",
       "0                 0  2008      1           3          4   2003.0        1955   \n",
       "1                 1  2008      1           3          4    754.0         735   \n",
       "2                 2  2008      1           3          4    628.0         620   \n",
       "3                 4  2008      1           3          4   1829.0        1755   \n",
       "4                 5  2008      1           3          4   1940.0        1915   \n",
       "...             ...   ...    ...         ...        ...      ...         ...   \n",
       "1936753     7009710  2008     12          13          6   1250.0        1220   \n",
       "1936754     7009717  2008     12          13          6    657.0         600   \n",
       "1936755     7009718  2008     12          13          6   1007.0         847   \n",
       "1936756     7009726  2008     12          13          6   1251.0        1240   \n",
       "1936757     7009727  2008     12          13          6   1110.0        1103   \n",
       "\n",
       "         ArrTime  CRSArrTime UniqueCarrier  ...  TaxiIn TaxiOut  Cancelled  \\\n",
       "0         2211.0        2225            WN  ...     4.0     8.0          0   \n",
       "1         1002.0        1000            WN  ...     5.0    10.0          0   \n",
       "2          804.0         750            WN  ...     3.0    17.0          0   \n",
       "3         1959.0        1925            WN  ...     3.0    10.0          0   \n",
       "4         2121.0        2110            WN  ...     4.0    10.0          0   \n",
       "...          ...         ...           ...  ...     ...     ...        ...   \n",
       "1936753   1617.0        1552            DL  ...     9.0    18.0          0   \n",
       "1936754    904.0         749            DL  ...    15.0    34.0          0   \n",
       "1936755   1149.0        1010            DL  ...     8.0    32.0          0   \n",
       "1936756   1446.0        1437            DL  ...    13.0    13.0          0   \n",
       "1936757   1413.0        1418            DL  ...     8.0    11.0          0   \n",
       "\n",
       "         CancellationCode  Diverted  CarrierDelay  WeatherDelay NASDelay  \\\n",
       "0                       N         0           NaN           NaN      NaN   \n",
       "1                       N         0           NaN           NaN      NaN   \n",
       "2                       N         0           NaN           NaN      NaN   \n",
       "3                       N         0           2.0           0.0      0.0   \n",
       "4                       N         0           NaN           NaN      NaN   \n",
       "...                   ...       ...           ...           ...      ...   \n",
       "1936753                 N         0           3.0           0.0      0.0   \n",
       "1936754                 N         0           0.0          57.0     18.0   \n",
       "1936755                 N         0           1.0           0.0     19.0   \n",
       "1936756                 N         0           NaN           NaN      NaN   \n",
       "1936757                 N         0           NaN           NaN      NaN   \n",
       "\n",
       "        SecurityDelay  LateAircraftDelay  \n",
       "0                 NaN                NaN  \n",
       "1                 NaN                NaN  \n",
       "2                 NaN                NaN  \n",
       "3                 0.0               32.0  \n",
       "4                 NaN                NaN  \n",
       "...               ...                ...  \n",
       "1936753           0.0               22.0  \n",
       "1936754           0.0                0.0  \n",
       "1936755           0.0               79.0  \n",
       "1936756           NaN                NaN  \n",
       "1936757           NaN                NaN  \n",
       "\n",
       "[1936758 rows x 30 columns]"
      ]
     },
     "execution_count": 4,
     "metadata": {},
     "output_type": "execute_result"
    }
   ],
   "source": [
    "df_flights_original = pd.read_csv('DelayedFlights.csv')\n",
    "df_flights_original"
   ]
  },
  {
   "cell_type": "code",
   "execution_count": 3,
   "id": "cc150320",
   "metadata": {},
   "outputs": [
    {
     "name": "stdout",
     "output_type": "stream",
     "text": [
      "<class 'pandas.core.frame.DataFrame'>\n",
      "RangeIndex: 1936758 entries, 0 to 1936757\n",
      "Data columns (total 30 columns):\n",
      " #   Column             Dtype  \n",
      "---  ------             -----  \n",
      " 0   Unnamed: 0         int64  \n",
      " 1   Year               int64  \n",
      " 2   Month              int64  \n",
      " 3   DayofMonth         int64  \n",
      " 4   DayOfWeek          int64  \n",
      " 5   DepTime            float64\n",
      " 6   CRSDepTime         int64  \n",
      " 7   ArrTime            float64\n",
      " 8   CRSArrTime         int64  \n",
      " 9   UniqueCarrier      object \n",
      " 10  FlightNum          int64  \n",
      " 11  TailNum            object \n",
      " 12  ActualElapsedTime  float64\n",
      " 13  CRSElapsedTime     float64\n",
      " 14  AirTime            float64\n",
      " 15  ArrDelay           float64\n",
      " 16  DepDelay           float64\n",
      " 17  Origin             object \n",
      " 18  Dest               object \n",
      " 19  Distance           int64  \n",
      " 20  TaxiIn             float64\n",
      " 21  TaxiOut            float64\n",
      " 22  Cancelled          int64  \n",
      " 23  CancellationCode   object \n",
      " 24  Diverted           int64  \n",
      " 25  CarrierDelay       float64\n",
      " 26  WeatherDelay       float64\n",
      " 27  NASDelay           float64\n",
      " 28  SecurityDelay      float64\n",
      " 29  LateAircraftDelay  float64\n",
      "dtypes: float64(14), int64(11), object(5)\n",
      "memory usage: 443.3+ MB\n"
     ]
    }
   ],
   "source": [
    "df_flights_original.info()                   #Per què no surt la columna NULLs?????????????????"
   ]
  },
  {
   "cell_type": "code",
   "execution_count": 4,
   "id": "bed12764",
   "metadata": {},
   "outputs": [
    {
     "data": {
      "text/plain": [
       "Index(['Unnamed: 0', 'Year', 'Month', 'DayofMonth', 'DayOfWeek', 'DepTime',\n",
       "       'CRSDepTime', 'ArrTime', 'CRSArrTime', 'UniqueCarrier', 'FlightNum',\n",
       "       'TailNum', 'ActualElapsedTime', 'CRSElapsedTime', 'AirTime', 'ArrDelay',\n",
       "       'DepDelay', 'Origin', 'Dest', 'Distance', 'TaxiIn', 'TaxiOut',\n",
       "       'Cancelled', 'CancellationCode', 'Diverted', 'CarrierDelay',\n",
       "       'WeatherDelay', 'NASDelay', 'SecurityDelay', 'LateAircraftDelay'],\n",
       "      dtype='object')"
      ]
     },
     "execution_count": 4,
     "metadata": {},
     "output_type": "execute_result"
    }
   ],
   "source": [
    "Columnes_df_flights_original = df_flights_original.columns\n",
    "Columnes_df_flights_original"
   ]
  },
  {
   "cell_type": "code",
   "execution_count": 5,
   "id": "fe7c8b76",
   "metadata": {},
   "outputs": [
    {
     "data": {
      "text/html": [
       "<div>\n",
       "<style scoped>\n",
       "    .dataframe tbody tr th:only-of-type {\n",
       "        vertical-align: middle;\n",
       "    }\n",
       "\n",
       "    .dataframe tbody tr th {\n",
       "        vertical-align: top;\n",
       "    }\n",
       "\n",
       "    .dataframe thead th {\n",
       "        text-align: right;\n",
       "    }\n",
       "</style>\n",
       "<table border=\"1\" class=\"dataframe\">\n",
       "  <thead>\n",
       "    <tr style=\"text-align: right;\">\n",
       "      <th></th>\n",
       "      <th>Month</th>\n",
       "      <th>DayofMonth</th>\n",
       "      <th>DayOfWeek</th>\n",
       "      <th>DepTime</th>\n",
       "      <th>CRSDepTime</th>\n",
       "      <th>ArrTime</th>\n",
       "      <th>CRSArrTime</th>\n",
       "      <th>UniqueCarrier</th>\n",
       "      <th>ActualElapsedTime</th>\n",
       "      <th>CRSElapsedTime</th>\n",
       "      <th>...</th>\n",
       "      <th>Dest</th>\n",
       "      <th>Distance</th>\n",
       "      <th>Cancelled</th>\n",
       "      <th>CancellationCode</th>\n",
       "      <th>Diverted</th>\n",
       "      <th>CarrierDelay</th>\n",
       "      <th>WeatherDelay</th>\n",
       "      <th>NASDelay</th>\n",
       "      <th>SecurityDelay</th>\n",
       "      <th>LateAircraftDelay</th>\n",
       "    </tr>\n",
       "  </thead>\n",
       "  <tbody>\n",
       "    <tr>\n",
       "      <th>0</th>\n",
       "      <td>1</td>\n",
       "      <td>3</td>\n",
       "      <td>4</td>\n",
       "      <td>2003.0</td>\n",
       "      <td>1955</td>\n",
       "      <td>2211.0</td>\n",
       "      <td>2225</td>\n",
       "      <td>WN</td>\n",
       "      <td>128.0</td>\n",
       "      <td>150.0</td>\n",
       "      <td>...</td>\n",
       "      <td>TPA</td>\n",
       "      <td>810</td>\n",
       "      <td>0</td>\n",
       "      <td>N</td>\n",
       "      <td>0</td>\n",
       "      <td>NaN</td>\n",
       "      <td>NaN</td>\n",
       "      <td>NaN</td>\n",
       "      <td>NaN</td>\n",
       "      <td>NaN</td>\n",
       "    </tr>\n",
       "    <tr>\n",
       "      <th>1</th>\n",
       "      <td>1</td>\n",
       "      <td>3</td>\n",
       "      <td>4</td>\n",
       "      <td>754.0</td>\n",
       "      <td>735</td>\n",
       "      <td>1002.0</td>\n",
       "      <td>1000</td>\n",
       "      <td>WN</td>\n",
       "      <td>128.0</td>\n",
       "      <td>145.0</td>\n",
       "      <td>...</td>\n",
       "      <td>TPA</td>\n",
       "      <td>810</td>\n",
       "      <td>0</td>\n",
       "      <td>N</td>\n",
       "      <td>0</td>\n",
       "      <td>NaN</td>\n",
       "      <td>NaN</td>\n",
       "      <td>NaN</td>\n",
       "      <td>NaN</td>\n",
       "      <td>NaN</td>\n",
       "    </tr>\n",
       "    <tr>\n",
       "      <th>2</th>\n",
       "      <td>1</td>\n",
       "      <td>3</td>\n",
       "      <td>4</td>\n",
       "      <td>628.0</td>\n",
       "      <td>620</td>\n",
       "      <td>804.0</td>\n",
       "      <td>750</td>\n",
       "      <td>WN</td>\n",
       "      <td>96.0</td>\n",
       "      <td>90.0</td>\n",
       "      <td>...</td>\n",
       "      <td>BWI</td>\n",
       "      <td>515</td>\n",
       "      <td>0</td>\n",
       "      <td>N</td>\n",
       "      <td>0</td>\n",
       "      <td>NaN</td>\n",
       "      <td>NaN</td>\n",
       "      <td>NaN</td>\n",
       "      <td>NaN</td>\n",
       "      <td>NaN</td>\n",
       "    </tr>\n",
       "    <tr>\n",
       "      <th>3</th>\n",
       "      <td>1</td>\n",
       "      <td>3</td>\n",
       "      <td>4</td>\n",
       "      <td>1829.0</td>\n",
       "      <td>1755</td>\n",
       "      <td>1959.0</td>\n",
       "      <td>1925</td>\n",
       "      <td>WN</td>\n",
       "      <td>90.0</td>\n",
       "      <td>90.0</td>\n",
       "      <td>...</td>\n",
       "      <td>BWI</td>\n",
       "      <td>515</td>\n",
       "      <td>0</td>\n",
       "      <td>N</td>\n",
       "      <td>0</td>\n",
       "      <td>2.0</td>\n",
       "      <td>0.0</td>\n",
       "      <td>0.0</td>\n",
       "      <td>0.0</td>\n",
       "      <td>32.0</td>\n",
       "    </tr>\n",
       "    <tr>\n",
       "      <th>4</th>\n",
       "      <td>1</td>\n",
       "      <td>3</td>\n",
       "      <td>4</td>\n",
       "      <td>1940.0</td>\n",
       "      <td>1915</td>\n",
       "      <td>2121.0</td>\n",
       "      <td>2110</td>\n",
       "      <td>WN</td>\n",
       "      <td>101.0</td>\n",
       "      <td>115.0</td>\n",
       "      <td>...</td>\n",
       "      <td>JAX</td>\n",
       "      <td>688</td>\n",
       "      <td>0</td>\n",
       "      <td>N</td>\n",
       "      <td>0</td>\n",
       "      <td>NaN</td>\n",
       "      <td>NaN</td>\n",
       "      <td>NaN</td>\n",
       "      <td>NaN</td>\n",
       "      <td>NaN</td>\n",
       "    </tr>\n",
       "    <tr>\n",
       "      <th>...</th>\n",
       "      <td>...</td>\n",
       "      <td>...</td>\n",
       "      <td>...</td>\n",
       "      <td>...</td>\n",
       "      <td>...</td>\n",
       "      <td>...</td>\n",
       "      <td>...</td>\n",
       "      <td>...</td>\n",
       "      <td>...</td>\n",
       "      <td>...</td>\n",
       "      <td>...</td>\n",
       "      <td>...</td>\n",
       "      <td>...</td>\n",
       "      <td>...</td>\n",
       "      <td>...</td>\n",
       "      <td>...</td>\n",
       "      <td>...</td>\n",
       "      <td>...</td>\n",
       "      <td>...</td>\n",
       "      <td>...</td>\n",
       "      <td>...</td>\n",
       "    </tr>\n",
       "    <tr>\n",
       "      <th>1936753</th>\n",
       "      <td>12</td>\n",
       "      <td>13</td>\n",
       "      <td>6</td>\n",
       "      <td>1250.0</td>\n",
       "      <td>1220</td>\n",
       "      <td>1617.0</td>\n",
       "      <td>1552</td>\n",
       "      <td>DL</td>\n",
       "      <td>147.0</td>\n",
       "      <td>152.0</td>\n",
       "      <td>...</td>\n",
       "      <td>ATL</td>\n",
       "      <td>906</td>\n",
       "      <td>0</td>\n",
       "      <td>N</td>\n",
       "      <td>0</td>\n",
       "      <td>3.0</td>\n",
       "      <td>0.0</td>\n",
       "      <td>0.0</td>\n",
       "      <td>0.0</td>\n",
       "      <td>22.0</td>\n",
       "    </tr>\n",
       "    <tr>\n",
       "      <th>1936754</th>\n",
       "      <td>12</td>\n",
       "      <td>13</td>\n",
       "      <td>6</td>\n",
       "      <td>657.0</td>\n",
       "      <td>600</td>\n",
       "      <td>904.0</td>\n",
       "      <td>749</td>\n",
       "      <td>DL</td>\n",
       "      <td>127.0</td>\n",
       "      <td>109.0</td>\n",
       "      <td>...</td>\n",
       "      <td>ATL</td>\n",
       "      <td>481</td>\n",
       "      <td>0</td>\n",
       "      <td>N</td>\n",
       "      <td>0</td>\n",
       "      <td>0.0</td>\n",
       "      <td>57.0</td>\n",
       "      <td>18.0</td>\n",
       "      <td>0.0</td>\n",
       "      <td>0.0</td>\n",
       "    </tr>\n",
       "    <tr>\n",
       "      <th>1936755</th>\n",
       "      <td>12</td>\n",
       "      <td>13</td>\n",
       "      <td>6</td>\n",
       "      <td>1007.0</td>\n",
       "      <td>847</td>\n",
       "      <td>1149.0</td>\n",
       "      <td>1010</td>\n",
       "      <td>DL</td>\n",
       "      <td>162.0</td>\n",
       "      <td>143.0</td>\n",
       "      <td>...</td>\n",
       "      <td>IAH</td>\n",
       "      <td>689</td>\n",
       "      <td>0</td>\n",
       "      <td>N</td>\n",
       "      <td>0</td>\n",
       "      <td>1.0</td>\n",
       "      <td>0.0</td>\n",
       "      <td>19.0</td>\n",
       "      <td>0.0</td>\n",
       "      <td>79.0</td>\n",
       "    </tr>\n",
       "    <tr>\n",
       "      <th>1936756</th>\n",
       "      <td>12</td>\n",
       "      <td>13</td>\n",
       "      <td>6</td>\n",
       "      <td>1251.0</td>\n",
       "      <td>1240</td>\n",
       "      <td>1446.0</td>\n",
       "      <td>1437</td>\n",
       "      <td>DL</td>\n",
       "      <td>115.0</td>\n",
       "      <td>117.0</td>\n",
       "      <td>...</td>\n",
       "      <td>ATL</td>\n",
       "      <td>533</td>\n",
       "      <td>0</td>\n",
       "      <td>N</td>\n",
       "      <td>0</td>\n",
       "      <td>NaN</td>\n",
       "      <td>NaN</td>\n",
       "      <td>NaN</td>\n",
       "      <td>NaN</td>\n",
       "      <td>NaN</td>\n",
       "    </tr>\n",
       "    <tr>\n",
       "      <th>1936757</th>\n",
       "      <td>12</td>\n",
       "      <td>13</td>\n",
       "      <td>6</td>\n",
       "      <td>1110.0</td>\n",
       "      <td>1103</td>\n",
       "      <td>1413.0</td>\n",
       "      <td>1418</td>\n",
       "      <td>DL</td>\n",
       "      <td>123.0</td>\n",
       "      <td>135.0</td>\n",
       "      <td>...</td>\n",
       "      <td>ATL</td>\n",
       "      <td>874</td>\n",
       "      <td>0</td>\n",
       "      <td>N</td>\n",
       "      <td>0</td>\n",
       "      <td>NaN</td>\n",
       "      <td>NaN</td>\n",
       "      <td>NaN</td>\n",
       "      <td>NaN</td>\n",
       "      <td>NaN</td>\n",
       "    </tr>\n",
       "  </tbody>\n",
       "</table>\n",
       "<p>1936758 rows × 24 columns</p>\n",
       "</div>"
      ],
      "text/plain": [
       "         Month  DayofMonth  DayOfWeek  DepTime  CRSDepTime  ArrTime  \\\n",
       "0            1           3          4   2003.0        1955   2211.0   \n",
       "1            1           3          4    754.0         735   1002.0   \n",
       "2            1           3          4    628.0         620    804.0   \n",
       "3            1           3          4   1829.0        1755   1959.0   \n",
       "4            1           3          4   1940.0        1915   2121.0   \n",
       "...        ...         ...        ...      ...         ...      ...   \n",
       "1936753     12          13          6   1250.0        1220   1617.0   \n",
       "1936754     12          13          6    657.0         600    904.0   \n",
       "1936755     12          13          6   1007.0         847   1149.0   \n",
       "1936756     12          13          6   1251.0        1240   1446.0   \n",
       "1936757     12          13          6   1110.0        1103   1413.0   \n",
       "\n",
       "         CRSArrTime UniqueCarrier  ActualElapsedTime  CRSElapsedTime  ...  \\\n",
       "0              2225            WN              128.0           150.0  ...   \n",
       "1              1000            WN              128.0           145.0  ...   \n",
       "2               750            WN               96.0            90.0  ...   \n",
       "3              1925            WN               90.0            90.0  ...   \n",
       "4              2110            WN              101.0           115.0  ...   \n",
       "...             ...           ...                ...             ...  ...   \n",
       "1936753        1552            DL              147.0           152.0  ...   \n",
       "1936754         749            DL              127.0           109.0  ...   \n",
       "1936755        1010            DL              162.0           143.0  ...   \n",
       "1936756        1437            DL              115.0           117.0  ...   \n",
       "1936757        1418            DL              123.0           135.0  ...   \n",
       "\n",
       "         Dest  Distance  Cancelled CancellationCode Diverted  CarrierDelay  \\\n",
       "0         TPA       810          0                N        0           NaN   \n",
       "1         TPA       810          0                N        0           NaN   \n",
       "2         BWI       515          0                N        0           NaN   \n",
       "3         BWI       515          0                N        0           2.0   \n",
       "4         JAX       688          0                N        0           NaN   \n",
       "...       ...       ...        ...              ...      ...           ...   \n",
       "1936753   ATL       906          0                N        0           3.0   \n",
       "1936754   ATL       481          0                N        0           0.0   \n",
       "1936755   IAH       689          0                N        0           1.0   \n",
       "1936756   ATL       533          0                N        0           NaN   \n",
       "1936757   ATL       874          0                N        0           NaN   \n",
       "\n",
       "         WeatherDelay NASDelay  SecurityDelay  LateAircraftDelay  \n",
       "0                 NaN      NaN            NaN                NaN  \n",
       "1                 NaN      NaN            NaN                NaN  \n",
       "2                 NaN      NaN            NaN                NaN  \n",
       "3                 0.0      0.0            0.0               32.0  \n",
       "4                 NaN      NaN            NaN                NaN  \n",
       "...               ...      ...            ...                ...  \n",
       "1936753           0.0      0.0            0.0               22.0  \n",
       "1936754          57.0     18.0            0.0                0.0  \n",
       "1936755           0.0     19.0            0.0               79.0  \n",
       "1936756           NaN      NaN            NaN                NaN  \n",
       "1936757           NaN      NaN            NaN                NaN  \n",
       "\n",
       "[1936758 rows x 24 columns]"
      ]
     },
     "execution_count": 5,
     "metadata": {},
     "output_type": "execute_result"
    }
   ],
   "source": [
    "#Make a copy of the original DF deletting uneeded Fem una còpia de l'original, eliminant algunes files innecessàries\n",
    "df_flights_copia = pd.DataFrame(df_flights_original.drop(['Unnamed: 0', 'Year', 'TaxiIn', 'TaxiOut' ,'FlightNum', 'TailNum'], axis=1)) #, inplace=True))\n",
    "df_flights_copia"
   ]
  },
  {
   "cell_type": "code",
   "execution_count": 6,
   "id": "c141b709",
   "metadata": {
    "scrolled": true
   },
   "outputs": [
    {
     "name": "stdout",
     "output_type": "stream",
     "text": [
      "<class 'pandas.core.frame.DataFrame'>\n",
      "RangeIndex: 1936758 entries, 0 to 1936757\n",
      "Data columns (total 24 columns):\n",
      " #   Column             Dtype  \n",
      "---  ------             -----  \n",
      " 0   Month              int64  \n",
      " 1   DayofMonth         int64  \n",
      " 2   DayOfWeek          int64  \n",
      " 3   DepTime            float64\n",
      " 4   CRSDepTime         int64  \n",
      " 5   ArrTime            float64\n",
      " 6   CRSArrTime         int64  \n",
      " 7   UniqueCarrier      object \n",
      " 8   ActualElapsedTime  float64\n",
      " 9   CRSElapsedTime     float64\n",
      " 10  AirTime            float64\n",
      " 11  ArrDelay           float64\n",
      " 12  DepDelay           float64\n",
      " 13  Origin             object \n",
      " 14  Dest               object \n",
      " 15  Distance           int64  \n",
      " 16  Cancelled          int64  \n",
      " 17  CancellationCode   object \n",
      " 18  Diverted           int64  \n",
      " 19  CarrierDelay       float64\n",
      " 20  WeatherDelay       float64\n",
      " 21  NASDelay           float64\n",
      " 22  SecurityDelay      float64\n",
      " 23  LateAircraftDelay  float64\n",
      "dtypes: float64(12), int64(8), object(4)\n",
      "memory usage: 354.6+ MB\n"
     ]
    }
   ],
   "source": [
    "df_flights_copia.info()"
   ]
  },
  {
   "cell_type": "code",
   "execution_count": 7,
   "id": "37bc350e",
   "metadata": {},
   "outputs": [
    {
     "data": {
      "text/html": [
       "<div>\n",
       "<style scoped>\n",
       "    .dataframe tbody tr th:only-of-type {\n",
       "        vertical-align: middle;\n",
       "    }\n",
       "\n",
       "    .dataframe tbody tr th {\n",
       "        vertical-align: top;\n",
       "    }\n",
       "\n",
       "    .dataframe thead th {\n",
       "        text-align: right;\n",
       "    }\n",
       "</style>\n",
       "<table border=\"1\" class=\"dataframe\">\n",
       "  <thead>\n",
       "    <tr style=\"text-align: right;\">\n",
       "      <th></th>\n",
       "      <th>Month</th>\n",
       "      <th>DayofMonth</th>\n",
       "      <th>DayOfWeek</th>\n",
       "      <th>DepTime</th>\n",
       "      <th>CRSDepTime</th>\n",
       "      <th>ArrTime</th>\n",
       "      <th>CRSArrTime</th>\n",
       "      <th>ActualElapsedTime</th>\n",
       "      <th>CRSElapsedTime</th>\n",
       "      <th>AirTime</th>\n",
       "      <th>ArrDelay</th>\n",
       "      <th>DepDelay</th>\n",
       "      <th>Distance</th>\n",
       "      <th>Cancelled</th>\n",
       "      <th>Diverted</th>\n",
       "      <th>CarrierDelay</th>\n",
       "      <th>WeatherDelay</th>\n",
       "      <th>NASDelay</th>\n",
       "      <th>SecurityDelay</th>\n",
       "      <th>LateAircraftDelay</th>\n",
       "    </tr>\n",
       "  </thead>\n",
       "  <tbody>\n",
       "    <tr>\n",
       "      <th>count</th>\n",
       "      <td>1936758.00</td>\n",
       "      <td>1936758.00</td>\n",
       "      <td>1936758.00</td>\n",
       "      <td>1936758.00</td>\n",
       "      <td>1936758.00</td>\n",
       "      <td>1929648.00</td>\n",
       "      <td>1936758.00</td>\n",
       "      <td>1928371.00</td>\n",
       "      <td>1936560.00</td>\n",
       "      <td>1928371.00</td>\n",
       "      <td>1928371.00</td>\n",
       "      <td>1936758.00</td>\n",
       "      <td>1936758.00</td>\n",
       "      <td>1936758.00</td>\n",
       "      <td>1936758.00</td>\n",
       "      <td>1247488.00</td>\n",
       "      <td>1247488.00</td>\n",
       "      <td>1247488.00</td>\n",
       "      <td>1247488.00</td>\n",
       "      <td>1247488.00</td>\n",
       "    </tr>\n",
       "    <tr>\n",
       "      <th>mean</th>\n",
       "      <td>6.11</td>\n",
       "      <td>15.75</td>\n",
       "      <td>3.98</td>\n",
       "      <td>1518.53</td>\n",
       "      <td>1467.47</td>\n",
       "      <td>1610.14</td>\n",
       "      <td>1634.22</td>\n",
       "      <td>133.31</td>\n",
       "      <td>134.30</td>\n",
       "      <td>108.28</td>\n",
       "      <td>42.20</td>\n",
       "      <td>43.19</td>\n",
       "      <td>765.69</td>\n",
       "      <td>0.00</td>\n",
       "      <td>0.00</td>\n",
       "      <td>19.18</td>\n",
       "      <td>3.70</td>\n",
       "      <td>15.02</td>\n",
       "      <td>0.09</td>\n",
       "      <td>25.30</td>\n",
       "    </tr>\n",
       "    <tr>\n",
       "      <th>std</th>\n",
       "      <td>3.48</td>\n",
       "      <td>8.78</td>\n",
       "      <td>2.00</td>\n",
       "      <td>450.49</td>\n",
       "      <td>424.77</td>\n",
       "      <td>548.18</td>\n",
       "      <td>464.63</td>\n",
       "      <td>72.06</td>\n",
       "      <td>71.34</td>\n",
       "      <td>68.64</td>\n",
       "      <td>56.78</td>\n",
       "      <td>53.40</td>\n",
       "      <td>574.48</td>\n",
       "      <td>0.02</td>\n",
       "      <td>0.06</td>\n",
       "      <td>43.55</td>\n",
       "      <td>21.49</td>\n",
       "      <td>33.83</td>\n",
       "      <td>2.02</td>\n",
       "      <td>42.05</td>\n",
       "    </tr>\n",
       "    <tr>\n",
       "      <th>min</th>\n",
       "      <td>1.00</td>\n",
       "      <td>1.00</td>\n",
       "      <td>1.00</td>\n",
       "      <td>1.00</td>\n",
       "      <td>0.00</td>\n",
       "      <td>1.00</td>\n",
       "      <td>0.00</td>\n",
       "      <td>14.00</td>\n",
       "      <td>-25.00</td>\n",
       "      <td>0.00</td>\n",
       "      <td>-109.00</td>\n",
       "      <td>6.00</td>\n",
       "      <td>11.00</td>\n",
       "      <td>0.00</td>\n",
       "      <td>0.00</td>\n",
       "      <td>0.00</td>\n",
       "      <td>0.00</td>\n",
       "      <td>0.00</td>\n",
       "      <td>0.00</td>\n",
       "      <td>0.00</td>\n",
       "    </tr>\n",
       "    <tr>\n",
       "      <th>25%</th>\n",
       "      <td>3.00</td>\n",
       "      <td>8.00</td>\n",
       "      <td>2.00</td>\n",
       "      <td>1203.00</td>\n",
       "      <td>1135.00</td>\n",
       "      <td>1316.00</td>\n",
       "      <td>1325.00</td>\n",
       "      <td>80.00</td>\n",
       "      <td>82.00</td>\n",
       "      <td>58.00</td>\n",
       "      <td>9.00</td>\n",
       "      <td>12.00</td>\n",
       "      <td>338.00</td>\n",
       "      <td>0.00</td>\n",
       "      <td>0.00</td>\n",
       "      <td>0.00</td>\n",
       "      <td>0.00</td>\n",
       "      <td>0.00</td>\n",
       "      <td>0.00</td>\n",
       "      <td>0.00</td>\n",
       "    </tr>\n",
       "    <tr>\n",
       "      <th>50%</th>\n",
       "      <td>6.00</td>\n",
       "      <td>16.00</td>\n",
       "      <td>4.00</td>\n",
       "      <td>1545.00</td>\n",
       "      <td>1510.00</td>\n",
       "      <td>1715.00</td>\n",
       "      <td>1705.00</td>\n",
       "      <td>116.00</td>\n",
       "      <td>116.00</td>\n",
       "      <td>90.00</td>\n",
       "      <td>24.00</td>\n",
       "      <td>24.00</td>\n",
       "      <td>606.00</td>\n",
       "      <td>0.00</td>\n",
       "      <td>0.00</td>\n",
       "      <td>2.00</td>\n",
       "      <td>0.00</td>\n",
       "      <td>2.00</td>\n",
       "      <td>0.00</td>\n",
       "      <td>8.00</td>\n",
       "    </tr>\n",
       "    <tr>\n",
       "      <th>75%</th>\n",
       "      <td>9.00</td>\n",
       "      <td>23.00</td>\n",
       "      <td>6.00</td>\n",
       "      <td>1900.00</td>\n",
       "      <td>1815.00</td>\n",
       "      <td>2030.00</td>\n",
       "      <td>2014.00</td>\n",
       "      <td>165.00</td>\n",
       "      <td>165.00</td>\n",
       "      <td>137.00</td>\n",
       "      <td>56.00</td>\n",
       "      <td>53.00</td>\n",
       "      <td>998.00</td>\n",
       "      <td>0.00</td>\n",
       "      <td>0.00</td>\n",
       "      <td>21.00</td>\n",
       "      <td>0.00</td>\n",
       "      <td>15.00</td>\n",
       "      <td>0.00</td>\n",
       "      <td>33.00</td>\n",
       "    </tr>\n",
       "    <tr>\n",
       "      <th>max</th>\n",
       "      <td>12.00</td>\n",
       "      <td>31.00</td>\n",
       "      <td>7.00</td>\n",
       "      <td>2400.00</td>\n",
       "      <td>2359.00</td>\n",
       "      <td>2400.00</td>\n",
       "      <td>2400.00</td>\n",
       "      <td>1114.00</td>\n",
       "      <td>660.00</td>\n",
       "      <td>1091.00</td>\n",
       "      <td>2461.00</td>\n",
       "      <td>2467.00</td>\n",
       "      <td>4962.00</td>\n",
       "      <td>1.00</td>\n",
       "      <td>1.00</td>\n",
       "      <td>2436.00</td>\n",
       "      <td>1352.00</td>\n",
       "      <td>1357.00</td>\n",
       "      <td>392.00</td>\n",
       "      <td>1316.00</td>\n",
       "    </tr>\n",
       "  </tbody>\n",
       "</table>\n",
       "</div>"
      ],
      "text/plain": [
       "            Month  DayofMonth   DayOfWeek     DepTime  CRSDepTime     ArrTime  \\\n",
       "count  1936758.00  1936758.00  1936758.00  1936758.00  1936758.00  1929648.00   \n",
       "mean         6.11       15.75        3.98     1518.53     1467.47     1610.14   \n",
       "std          3.48        8.78        2.00      450.49      424.77      548.18   \n",
       "min          1.00        1.00        1.00        1.00        0.00        1.00   \n",
       "25%          3.00        8.00        2.00     1203.00     1135.00     1316.00   \n",
       "50%          6.00       16.00        4.00     1545.00     1510.00     1715.00   \n",
       "75%          9.00       23.00        6.00     1900.00     1815.00     2030.00   \n",
       "max         12.00       31.00        7.00     2400.00     2359.00     2400.00   \n",
       "\n",
       "       CRSArrTime  ActualElapsedTime  CRSElapsedTime     AirTime    ArrDelay  \\\n",
       "count  1936758.00         1928371.00      1936560.00  1928371.00  1928371.00   \n",
       "mean      1634.22             133.31          134.30      108.28       42.20   \n",
       "std        464.63              72.06           71.34       68.64       56.78   \n",
       "min          0.00              14.00          -25.00        0.00     -109.00   \n",
       "25%       1325.00              80.00           82.00       58.00        9.00   \n",
       "50%       1705.00             116.00          116.00       90.00       24.00   \n",
       "75%       2014.00             165.00          165.00      137.00       56.00   \n",
       "max       2400.00            1114.00          660.00     1091.00     2461.00   \n",
       "\n",
       "         DepDelay    Distance   Cancelled    Diverted  CarrierDelay  \\\n",
       "count  1936758.00  1936758.00  1936758.00  1936758.00    1247488.00   \n",
       "mean        43.19      765.69        0.00        0.00         19.18   \n",
       "std         53.40      574.48        0.02        0.06         43.55   \n",
       "min          6.00       11.00        0.00        0.00          0.00   \n",
       "25%         12.00      338.00        0.00        0.00          0.00   \n",
       "50%         24.00      606.00        0.00        0.00          2.00   \n",
       "75%         53.00      998.00        0.00        0.00         21.00   \n",
       "max       2467.00     4962.00        1.00        1.00       2436.00   \n",
       "\n",
       "       WeatherDelay    NASDelay  SecurityDelay  LateAircraftDelay  \n",
       "count    1247488.00  1247488.00     1247488.00         1247488.00  \n",
       "mean           3.70       15.02           0.09              25.30  \n",
       "std           21.49       33.83           2.02              42.05  \n",
       "min            0.00        0.00           0.00               0.00  \n",
       "25%            0.00        0.00           0.00               0.00  \n",
       "50%            0.00        2.00           0.00               8.00  \n",
       "75%            0.00       15.00           0.00              33.00  \n",
       "max         1352.00     1357.00         392.00            1316.00  "
      ]
     },
     "execution_count": 7,
     "metadata": {},
     "output_type": "execute_result"
    }
   ],
   "source": [
    "df_Describe = round(df_flights_copia.describe(),2)\n",
    "df_Describe"
   ]
  },
  {
   "cell_type": "markdown",
   "id": "424d19bb",
   "metadata": {},
   "source": [
    "Si observem la taula __'df_Describe'__ veiem que les dades (mean, std, min, 25%, 50%, 75%, max) de les columnes (Month, DayofMonth, DayOfWeek, DepTime, CRSDepTime, ArrTime, CRSArrTime) no són vàlides ja que les dades de les columnes originals són les hores corresponents en format 24h convertides a float64.\n",
    "\n",
    "La única dada vàlida seria __'count'__ indicant el total de les files que contenen info.  "
   ]
  },
  {
   "cell_type": "code",
   "execution_count": 8,
   "id": "28c6e0ef",
   "metadata": {},
   "outputs": [
    {
     "name": "stdout",
     "output_type": "stream",
     "text": [
      "*** Les dades de la fila 'count' de cada una de les columnes:\n",
      "Month                1936758.0\n",
      "DayofMonth           1936758.0\n",
      "DayOfWeek            1936758.0\n",
      "DepTime              1936758.0\n",
      "CRSDepTime           1936758.0\n",
      "ArrTime              1929648.0\n",
      "CRSArrTime           1936758.0\n",
      "ActualElapsedTime    1928371.0\n",
      "CRSElapsedTime       1936560.0\n",
      "AirTime              1928371.0\n",
      "ArrDelay             1928371.0\n",
      "DepDelay             1936758.0\n",
      "Distance             1936758.0\n",
      "Cancelled            1936758.0\n",
      "Diverted             1936758.0\n",
      "CarrierDelay         1247488.0\n",
      "WeatherDelay         1247488.0\n",
      "NASDelay             1247488.0\n",
      "SecurityDelay        1247488.0\n",
      "LateAircraftDelay    1247488.0\n",
      "Name: count, dtype: float64\n",
      "\n",
      "*** El tipus de variable a on es guarden les dades obtingudes:  <class 'pandas.core.series.Series'>\n"
     ]
    }
   ],
   "source": [
    "# Obtenim el resultat d'una Series amb el valor de cada una de les columnes\n",
    "count_Col = df_Describe.iloc[0]\n",
    "print(f\"*** Les dades de la fila 'count' de cada una de les columnes:\\n{count_Col}\")\n",
    "print(\"\\n*** El tipus de variable a on es guarden les dades obtingudes: \", type(count_Col))"
   ]
  },
  {
   "cell_type": "markdown",
   "id": "88f846a2",
   "metadata": {
    "heading_collapsed": true
   },
   "source": [
    "##### Netejant una mica les dades del DataFrame amd les dades de describe()..."
   ]
  },
  {
   "cell_type": "code",
   "execution_count": 9,
   "id": "cb3aeeb0",
   "metadata": {
    "hidden": true
   },
   "outputs": [
    {
     "data": {
      "text/html": [
       "<div>\n",
       "<style scoped>\n",
       "    .dataframe tbody tr th:only-of-type {\n",
       "        vertical-align: middle;\n",
       "    }\n",
       "\n",
       "    .dataframe tbody tr th {\n",
       "        vertical-align: top;\n",
       "    }\n",
       "\n",
       "    .dataframe thead th {\n",
       "        text-align: right;\n",
       "    }\n",
       "</style>\n",
       "<table border=\"1\" class=\"dataframe\">\n",
       "  <thead>\n",
       "    <tr style=\"text-align: right;\">\n",
       "      <th></th>\n",
       "      <th>ActualElapsedTime</th>\n",
       "      <th>CRSElapsedTime</th>\n",
       "      <th>AirTime</th>\n",
       "      <th>ArrDelay</th>\n",
       "      <th>DepDelay</th>\n",
       "      <th>Distance</th>\n",
       "      <th>Cancelled</th>\n",
       "      <th>Diverted</th>\n",
       "      <th>CarrierDelay</th>\n",
       "      <th>WeatherDelay</th>\n",
       "      <th>NASDelay</th>\n",
       "      <th>SecurityDelay</th>\n",
       "      <th>LateAircraftDelay</th>\n",
       "    </tr>\n",
       "  </thead>\n",
       "  <tbody>\n",
       "    <tr>\n",
       "      <th>count</th>\n",
       "      <td>1928371.00</td>\n",
       "      <td>1936560.00</td>\n",
       "      <td>1928371.00</td>\n",
       "      <td>1928371.00</td>\n",
       "      <td>1936758.00</td>\n",
       "      <td>1936758.00</td>\n",
       "      <td>1936758.00</td>\n",
       "      <td>1936758.00</td>\n",
       "      <td>1247488.00</td>\n",
       "      <td>1247488.00</td>\n",
       "      <td>1247488.00</td>\n",
       "      <td>1247488.00</td>\n",
       "      <td>1247488.00</td>\n",
       "    </tr>\n",
       "    <tr>\n",
       "      <th>mean</th>\n",
       "      <td>133.31</td>\n",
       "      <td>134.30</td>\n",
       "      <td>108.28</td>\n",
       "      <td>42.20</td>\n",
       "      <td>43.19</td>\n",
       "      <td>765.69</td>\n",
       "      <td>0.00</td>\n",
       "      <td>0.00</td>\n",
       "      <td>19.18</td>\n",
       "      <td>3.70</td>\n",
       "      <td>15.02</td>\n",
       "      <td>0.09</td>\n",
       "      <td>25.30</td>\n",
       "    </tr>\n",
       "    <tr>\n",
       "      <th>std</th>\n",
       "      <td>72.06</td>\n",
       "      <td>71.34</td>\n",
       "      <td>68.64</td>\n",
       "      <td>56.78</td>\n",
       "      <td>53.40</td>\n",
       "      <td>574.48</td>\n",
       "      <td>0.02</td>\n",
       "      <td>0.06</td>\n",
       "      <td>43.55</td>\n",
       "      <td>21.49</td>\n",
       "      <td>33.83</td>\n",
       "      <td>2.02</td>\n",
       "      <td>42.05</td>\n",
       "    </tr>\n",
       "    <tr>\n",
       "      <th>min</th>\n",
       "      <td>14.00</td>\n",
       "      <td>-25.00</td>\n",
       "      <td>0.00</td>\n",
       "      <td>-109.00</td>\n",
       "      <td>6.00</td>\n",
       "      <td>11.00</td>\n",
       "      <td>0.00</td>\n",
       "      <td>0.00</td>\n",
       "      <td>0.00</td>\n",
       "      <td>0.00</td>\n",
       "      <td>0.00</td>\n",
       "      <td>0.00</td>\n",
       "      <td>0.00</td>\n",
       "    </tr>\n",
       "    <tr>\n",
       "      <th>25%</th>\n",
       "      <td>80.00</td>\n",
       "      <td>82.00</td>\n",
       "      <td>58.00</td>\n",
       "      <td>9.00</td>\n",
       "      <td>12.00</td>\n",
       "      <td>338.00</td>\n",
       "      <td>0.00</td>\n",
       "      <td>0.00</td>\n",
       "      <td>0.00</td>\n",
       "      <td>0.00</td>\n",
       "      <td>0.00</td>\n",
       "      <td>0.00</td>\n",
       "      <td>0.00</td>\n",
       "    </tr>\n",
       "    <tr>\n",
       "      <th>50%</th>\n",
       "      <td>116.00</td>\n",
       "      <td>116.00</td>\n",
       "      <td>90.00</td>\n",
       "      <td>24.00</td>\n",
       "      <td>24.00</td>\n",
       "      <td>606.00</td>\n",
       "      <td>0.00</td>\n",
       "      <td>0.00</td>\n",
       "      <td>2.00</td>\n",
       "      <td>0.00</td>\n",
       "      <td>2.00</td>\n",
       "      <td>0.00</td>\n",
       "      <td>8.00</td>\n",
       "    </tr>\n",
       "    <tr>\n",
       "      <th>75%</th>\n",
       "      <td>165.00</td>\n",
       "      <td>165.00</td>\n",
       "      <td>137.00</td>\n",
       "      <td>56.00</td>\n",
       "      <td>53.00</td>\n",
       "      <td>998.00</td>\n",
       "      <td>0.00</td>\n",
       "      <td>0.00</td>\n",
       "      <td>21.00</td>\n",
       "      <td>0.00</td>\n",
       "      <td>15.00</td>\n",
       "      <td>0.00</td>\n",
       "      <td>33.00</td>\n",
       "    </tr>\n",
       "    <tr>\n",
       "      <th>max</th>\n",
       "      <td>1114.00</td>\n",
       "      <td>660.00</td>\n",
       "      <td>1091.00</td>\n",
       "      <td>2461.00</td>\n",
       "      <td>2467.00</td>\n",
       "      <td>4962.00</td>\n",
       "      <td>1.00</td>\n",
       "      <td>1.00</td>\n",
       "      <td>2436.00</td>\n",
       "      <td>1352.00</td>\n",
       "      <td>1357.00</td>\n",
       "      <td>392.00</td>\n",
       "      <td>1316.00</td>\n",
       "    </tr>\n",
       "  </tbody>\n",
       "</table>\n",
       "</div>"
      ],
      "text/plain": [
       "       ActualElapsedTime  CRSElapsedTime     AirTime    ArrDelay    DepDelay  \\\n",
       "count         1928371.00      1936560.00  1928371.00  1928371.00  1936758.00   \n",
       "mean              133.31          134.30      108.28       42.20       43.19   \n",
       "std                72.06           71.34       68.64       56.78       53.40   \n",
       "min                14.00          -25.00        0.00     -109.00        6.00   \n",
       "25%                80.00           82.00       58.00        9.00       12.00   \n",
       "50%               116.00          116.00       90.00       24.00       24.00   \n",
       "75%               165.00          165.00      137.00       56.00       53.00   \n",
       "max              1114.00          660.00     1091.00     2461.00     2467.00   \n",
       "\n",
       "         Distance   Cancelled    Diverted  CarrierDelay  WeatherDelay  \\\n",
       "count  1936758.00  1936758.00  1936758.00    1247488.00    1247488.00   \n",
       "mean       765.69        0.00        0.00         19.18          3.70   \n",
       "std        574.48        0.02        0.06         43.55         21.49   \n",
       "min         11.00        0.00        0.00          0.00          0.00   \n",
       "25%        338.00        0.00        0.00          0.00          0.00   \n",
       "50%        606.00        0.00        0.00          2.00          0.00   \n",
       "75%        998.00        0.00        0.00         21.00          0.00   \n",
       "max       4962.00        1.00        1.00       2436.00       1352.00   \n",
       "\n",
       "         NASDelay  SecurityDelay  LateAircraftDelay  \n",
       "count  1247488.00     1247488.00         1247488.00  \n",
       "mean        15.02           0.09              25.30  \n",
       "std         33.83           2.02              42.05  \n",
       "min          0.00           0.00               0.00  \n",
       "25%          0.00           0.00               0.00  \n",
       "50%          2.00           0.00               8.00  \n",
       "75%         15.00           0.00              33.00  \n",
       "max       1357.00         392.00            1316.00  "
      ]
     },
     "execution_count": 9,
     "metadata": {},
     "output_type": "execute_result"
    }
   ],
   "source": [
    "df_Describe_Clean = pd.DataFrame(df_Describe.drop(['Month', 'DayofMonth', 'DayOfWeek', 'DepTime' ,'CRSDepTime', 'ArrTime', 'CRSArrTime'], axis=1)) #, inplace=True))\n",
    "df_Describe_Clean"
   ]
  },
  {
   "cell_type": "code",
   "execution_count": 10,
   "id": "1178b1c6",
   "metadata": {
    "hidden": true
   },
   "outputs": [
    {
     "data": {
      "text/plain": [
       "80.0      16871\n",
       "75.0      16788\n",
       "70.0      16032\n",
       "78.0      15857\n",
       "77.0      15806\n",
       "          ...  \n",
       "790.0         1\n",
       "724.0         1\n",
       "672.0         1\n",
       "670.0         1\n",
       "1114.0        1\n",
       "Name: ActualElapsedTime, Length: 673, dtype: int64"
      ]
     },
     "execution_count": 10,
     "metadata": {},
     "output_type": "execute_result"
    }
   ],
   "source": [
    "df_flights_copia['ActualElapsedTime'].value_counts()"
   ]
  },
  {
   "cell_type": "code",
   "execution_count": 11,
   "id": "4fea183e",
   "metadata": {
    "hidden": true
   },
   "outputs": [
    {
     "data": {
      "text/plain": [
       "0           8.0\n",
       "1          19.0\n",
       "2           8.0\n",
       "3          34.0\n",
       "4          25.0\n",
       "           ... \n",
       "1936753    30.0\n",
       "1936754    57.0\n",
       "1936755    80.0\n",
       "1936756    11.0\n",
       "1936757     7.0\n",
       "Name: DepDelay, Length: 1936758, dtype: float64"
      ]
     },
     "execution_count": 11,
     "metadata": {},
     "output_type": "execute_result"
    }
   ],
   "source": [
    "df_flights_copia['DepDelay']"
   ]
  },
  {
   "cell_type": "code",
   "execution_count": 12,
   "id": "f6d75c95",
   "metadata": {
    "hidden": true
   },
   "outputs": [
    {
     "data": {
      "text/plain": [
       "39          30.0\n",
       "93         275.0\n",
       "96          23.0\n",
       "274        110.0\n",
       "411         10.0\n",
       "           ...  \n",
       "1932073    113.0\n",
       "1932083     23.0\n",
       "1932206     17.0\n",
       "1932214     11.0\n",
       "1932286      6.0\n",
       "Name: DepDelay, Length: 6005, dtype: float64"
      ]
     },
     "execution_count": 12,
     "metadata": {},
     "output_type": "execute_result"
    }
   ],
   "source": [
    "df_flights_copia['DepDelay'][df_flights_copia['SecurityDelay'] > 0]"
   ]
  },
  {
   "cell_type": "code",
   "execution_count": 13,
   "id": "77295354",
   "metadata": {
    "hidden": true
   },
   "outputs": [
    {
     "data": {
      "text/plain": [
       "294        2139.0\n",
       "302        2249.0\n",
       "512         838.0\n",
       "543         931.0\n",
       "560         840.0\n",
       "            ...  \n",
       "1936713    1636.0\n",
       "1936716    1444.0\n",
       "1936733    2007.0\n",
       "1936738    1908.0\n",
       "1936754     904.0\n",
       "Name: ArrTime, Length: 98918, dtype: float64"
      ]
     },
     "execution_count": 13,
     "metadata": {},
     "output_type": "execute_result"
    }
   ],
   "source": [
    "df_flights_copia['ArrTime'][df_flights_copia['WeatherDelay'] > 0]"
   ]
  },
  {
   "cell_type": "code",
   "execution_count": 14,
   "id": "fbb1cf7d",
   "metadata": {
    "hidden": true
   },
   "outputs": [
    {
     "data": {
      "text/plain": [
       "32         1450.0\n",
       "36         1900.0\n",
       "38          646.0\n",
       "47          958.0\n",
       "54         1229.0\n",
       "            ...  \n",
       "1936747    2006.0\n",
       "1936749    1528.0\n",
       "1936751     921.0\n",
       "1936754     657.0\n",
       "1936755    1007.0\n",
       "Name: DepTime, Length: 658493, dtype: float64"
      ]
     },
     "execution_count": 14,
     "metadata": {},
     "output_type": "execute_result"
    }
   ],
   "source": [
    "df_flights_copia['DepTime'][df_flights_copia['NASDelay'] > 0]"
   ]
  },
  {
   "cell_type": "code",
   "execution_count": 15,
   "id": "61223583",
   "metadata": {
    "hidden": true
   },
   "outputs": [
    {
     "data": {
      "text/plain": [
       "3          1829.0\n",
       "5          1937.0\n",
       "7          1644.0\n",
       "9          1452.0\n",
       "11         1323.0\n",
       "            ...  \n",
       "1936748    1254.0\n",
       "1936749    1528.0\n",
       "1936752    1552.0\n",
       "1936753    1250.0\n",
       "1936755    1007.0\n",
       "Name: DepTime, Length: 691582, dtype: float64"
      ]
     },
     "execution_count": 15,
     "metadata": {},
     "output_type": "execute_result"
    }
   ],
   "source": [
    "df_flights_copia['DepTime'][df_flights_copia['LateAircraftDelay'] > 0]"
   ]
  },
  {
   "cell_type": "code",
   "execution_count": 16,
   "id": "f1f38fe5",
   "metadata": {
    "hidden": true
   },
   "outputs": [
    {
     "data": {
      "text/plain": [
       "3          1829.0\n",
       "5          1937.0\n",
       "7          1644.0\n",
       "9          1452.0\n",
       "12         1416.0\n",
       "            ...  \n",
       "1936746    1429.0\n",
       "1936749    1528.0\n",
       "1936751     921.0\n",
       "1936753    1250.0\n",
       "1936755    1007.0\n",
       "Name: DepTime, Length: 656439, dtype: float64"
      ]
     },
     "execution_count": 16,
     "metadata": {},
     "output_type": "execute_result"
    }
   ],
   "source": [
    "df_flights_copia['DepTime'][df_flights_copia['CarrierDelay'] > 0]"
   ]
  },
  {
   "cell_type": "code",
   "execution_count": 17,
   "id": "ab87ba4b",
   "metadata": {
    "hidden": true
   },
   "outputs": [
    {
     "data": {
      "text/plain": [
       "3.98"
      ]
     },
     "execution_count": 17,
     "metadata": {},
     "output_type": "execute_result"
    }
   ],
   "source": [
    "df_Describe.iloc[1, 2]"
   ]
  },
  {
   "cell_type": "code",
   "execution_count": 18,
   "id": "02c96845",
   "metadata": {
    "hidden": true
   },
   "outputs": [
    {
     "data": {
      "text/plain": [
       "1316.0"
      ]
     },
     "execution_count": 18,
     "metadata": {},
     "output_type": "execute_result"
    }
   ],
   "source": [
    "df_flights_copia.LateAircraftDelay.max()"
   ]
  },
  {
   "cell_type": "code",
   "execution_count": 19,
   "id": "3c461637",
   "metadata": {
    "hidden": true
   },
   "outputs": [
    {
     "data": {
      "text/plain": [
       "1091.0"
      ]
     },
     "execution_count": 19,
     "metadata": {},
     "output_type": "execute_result"
    }
   ],
   "source": [
    "df_flights_copia.AirTime.max()"
   ]
  },
  {
   "cell_type": "code",
   "execution_count": 20,
   "id": "68e15102",
   "metadata": {
    "hidden": true
   },
   "outputs": [
    {
     "data": {
      "text/plain": [
       "-109.0"
      ]
     },
     "execution_count": 20,
     "metadata": {},
     "output_type": "execute_result"
    }
   ],
   "source": [
    "df_flights_copia.ArrDelay.min()"
   ]
  },
  {
   "cell_type": "code",
   "execution_count": 21,
   "id": "321bb196",
   "metadata": {
    "hidden": true
   },
   "outputs": [
    {
     "data": {
      "text/plain": [
       "-25.0"
      ]
     },
     "execution_count": 21,
     "metadata": {},
     "output_type": "execute_result"
    }
   ],
   "source": [
    "df_flights_copia.CRSElapsedTime.min()"
   ]
  },
  {
   "cell_type": "code",
   "execution_count": 22,
   "id": "199b8a1c",
   "metadata": {
    "hidden": true
   },
   "outputs": [
    {
     "data": {
      "text/plain": [
       "660.0"
      ]
     },
     "execution_count": 22,
     "metadata": {},
     "output_type": "execute_result"
    }
   ],
   "source": [
    "df_flights_copia.CRSElapsedTime.max()"
   ]
  },
  {
   "cell_type": "code",
   "execution_count": 23,
   "id": "e3d2bcab",
   "metadata": {
    "hidden": true
   },
   "outputs": [
    {
     "data": {
      "text/plain": [
       "0          0\n",
       "1          0\n",
       "2          0\n",
       "3          0\n",
       "4          0\n",
       "          ..\n",
       "1936753    0\n",
       "1936754    0\n",
       "1936755    0\n",
       "1936756    0\n",
       "1936757    0\n",
       "Name: Cancelled, Length: 1936758, dtype: int64"
      ]
     },
     "execution_count": 23,
     "metadata": {},
     "output_type": "execute_result"
    }
   ],
   "source": [
    "df_flights_copia.Cancelled"
   ]
  },
  {
   "cell_type": "markdown",
   "id": "980487f0",
   "metadata": {},
   "source": [
    "#### Una variable categòrica (nominal?) (UniqueCarrier) "
   ]
  },
  {
   "cell_type": "code",
   "execution_count": 24,
   "id": "3702f2fe",
   "metadata": {},
   "outputs": [
    {
     "data": {
      "image/png": "[encoded data removed]",
      "text/plain": [
       "<Figure size 1800x360 with 1 Axes>"
      ]
     },
     "metadata": {},
     "output_type": "display_data"
    }
   ],
   "source": [
    "df_companyies = df_flights_copia[\"UniqueCarrier\"].value_counts()\n",
    "\n",
    "# Create a pieplot\n",
    "fig_1varC = plt.figure(figsize=(25,5))\n",
    "plt.pie(df_companyies, autopct=\"%0.1f %%\", labels=df_flights_copia['UniqueCarrier'].unique())\n",
    "\n",
    "plt.legend(title = \"Flights per Carrier\", bbox_to_anchor=(1, 1))\n",
    "plt.show()"
   ]
  },
  {
   "cell_type": "markdown",
   "id": "2b79b22c",
   "metadata": {},
   "source": [
    "#### Una variable numèrica (ActualElapsedTime)"
   ]
  },
  {
   "cell_type": "code",
   "execution_count": 25,
   "id": "a857592e",
   "metadata": {},
   "outputs": [
    {
     "data": {
      "image/png": "[encoded data removed]",
      "text/plain": [
       "<Figure size 432x288 with 1 Axes>"
      ]
     },
     "metadata": {
      "needs_background": "light"
     },
     "output_type": "display_data"
    }
   ],
   "source": [
    "fig_1varN = plt.figure()\n",
    "df_flights_copia[\"ActualElapsedTime\"].value_counts().plot(kind='hist');\n",
    "plt.xlabel('Nr of flights w same Real Delay')\n",
    "plt.ylabel('ActualElapsedTime')\n",
    "plt.show()"
   ]
  },
  {
   "cell_type": "markdown",
   "id": "28803ecc",
   "metadata": {},
   "source": [
    "#### Una variable numèrica i una categòrica (ActualElapsedTime i UniqueCarrier) i (CRSElapsedTime i UniqueCarrier)"
   ]
  },
  {
   "cell_type": "code",
   "execution_count": 26,
   "id": "1a3636d2",
   "metadata": {},
   "outputs": [
    {
     "data": {
      "image/png": "[encoded data removed]",
      "text/plain": [
       "<Figure size 432x288 with 1 Axes>"
      ]
     },
     "metadata": {
      "needs_background": "light"
     },
     "output_type": "display_data"
    }
   ],
   "source": [
    "fig_2var11 = sns.barplot(y=\"UniqueCarrier\", x=\"ActualElapsedTime\", data=df_flights_copia)\n",
    "plt.show()"
   ]
  },
  {
   "cell_type": "code",
   "execution_count": 27,
   "id": "4dadec8e",
   "metadata": {},
   "outputs": [
    {
     "data": {
      "image/png": "[encoded data removed]",
      "text/plain": [
       "<Figure size 432x288 with 1 Axes>"
      ]
     },
     "metadata": {
      "needs_background": "light"
     },
     "output_type": "display_data"
    }
   ],
   "source": [
    "fig_2var12 = sns.barplot(y=\"UniqueCarrier\", x=\"CRSElapsedTime\", data=df_flights_copia)\n",
    "plt.show()"
   ]
  },
  {
   "cell_type": "code",
   "execution_count": 28,
   "id": "794ab3a8",
   "metadata": {},
   "outputs": [
    {
     "data": {
      "image/png": "[encoded data removed]",
      "text/plain": [
       "<Figure size 432x288 with 1 Axes>"
      ]
     },
     "metadata": {
      "needs_background": "light"
     },
     "output_type": "display_data"
    }
   ],
   "source": [
    "df_flights_copia['CRSDiff'] = df_flights_copia['CRSElapsedTime'] - df_flights_copia['ActualElapsedTime']\n",
    "fig_2var13 = sns.barplot(y=\"UniqueCarrier\", x=\"CRSDiff\", data=df_flights_copia)\n",
    "plt.show()"
   ]
  },
  {
   "cell_type": "markdown",
   "id": "1be1ce3d",
   "metadata": {},
   "source": [
    "#### Dues variables numèriques (ArrDelay i DepDelay) i (CRSElapsedTime i ActualElapsedTime)"
   ]
  },
  {
   "cell_type": "code",
   "execution_count": 29,
   "id": "27c6186a",
   "metadata": {},
   "outputs": [
    {
     "data": {
      "image/png": "[encoded data removed]",
      "text/plain": [
       "<Figure size 432x288 with 1 Axes>"
      ]
     },
     "metadata": {
      "needs_background": "light"
     },
     "output_type": "display_data"
    }
   ],
   "source": [
    "fig_2var21 = sns.barplot(y=\"ArrDelay\", x=\"DepDelay\", hue='UniqueCarrier', data=df_flights_copia)\n",
    "plt.legend(title = \"Aerolínies:\", bbox_to_anchor=(1, 1))\n",
    "plt.show()"
   ]
  },
  {
   "cell_type": "code",
   "execution_count": 30,
   "id": "ed548083",
   "metadata": {},
   "outputs": [
    {
     "data": {
      "image/png": "[encoded data removed]",
      "text/plain": [
       "<Figure size 432x288 with 1 Axes>"
      ]
     },
     "metadata": {
      "needs_background": "light"
     },
     "output_type": "display_data"
    }
   ],
   "source": [
    "fig_2var22 = sns.barplot(y=\"CRSElapsedTime\", x=\"ActualElapsedTime\", hue='UniqueCarrier', data=df_flights_copia)\n",
    "plt.legend(title = \"Aerolínies:\", bbox_to_anchor=(1, 1))\n",
    "plt.show()"
   ]
  },
  {
   "cell_type": "markdown",
   "id": "50a42f6f",
   "metadata": {},
   "source": [
    "#### Tres variables (ArrDelay, DepDelay i UniqueCarrier)"
   ]
  },
  {
   "cell_type": "code",
   "execution_count": 31,
   "id": "14fe87d8",
   "metadata": {},
   "outputs": [
    {
     "data": {
      "text/plain": [
       "array(['WN', 'XE', 'YV', 'OH', 'OO', 'UA', 'US', 'DL', 'EV', 'F9', 'FL',\n",
       "       'HA', 'MQ', 'NW', '9E', 'AA', 'AQ', 'AS', 'B6', 'CO'], dtype=object)"
      ]
     },
     "execution_count": 31,
     "metadata": {},
     "output_type": "execute_result"
    }
   ],
   "source": [
    "df_flights_copia['UniqueCarrier'].unique()"
   ]
  },
  {
   "cell_type": "code",
   "execution_count": 32,
   "id": "64a59592",
   "metadata": {},
   "outputs": [
    {
     "data": {
      "image/png": "[encoded data removed]",
      "text/plain": [
       "<Figure size 1080x360 with 3 Axes>"
      ]
     },
     "metadata": {
      "needs_background": "light"
     },
     "output_type": "display_data"
    }
   ],
   "source": [
    "plt.subplots(figsize=(15,5))\n",
    "plt.subplot(1, 3, 1)\n",
    "df_flights_copia['ActualElapsedTime'].value_counts().plot(kind=\"hist\");\n",
    "\n",
    "plt.subplot(1, 3, 2)\n",
    "df_flights_copia['CRSElapsedTime'].value_counts().plot(kind=\"hist\");\n",
    "\n",
    "plt.subplot(1, 3, 3)\n",
    "df_flights_copia['UniqueCarrier'].value_counts().plot(kind=\"hist\");\n",
    "\n",
    "plt.show()"
   ]
  },
  {
   "cell_type": "code",
   "execution_count": 33,
   "id": "b8d0991b",
   "metadata": {},
   "outputs": [
    {
     "data": {
      "image/png": "[encoded data removed]",
      "text/plain": [
       "<Figure size 437.75x360 with 1 Axes>"
      ]
     },
     "metadata": {
      "needs_background": "light"
     },
     "output_type": "display_data"
    }
   ],
   "source": [
    "fig_3var1 = sns.relplot(x=\"ArrDelay\", y=\"DepDelay\", hue=\"UniqueCarrier\", data=df_flights_copia);"
   ]
  },
  {
   "cell_type": "code",
   "execution_count": 34,
   "id": "6febba58",
   "metadata": {},
   "outputs": [
    {
     "data": {
      "image/png": "[encoded data removed]",
      "text/plain": [
       "<Figure size 437.75x360 with 1 Axes>"
      ]
     },
     "metadata": {
      "needs_background": "light"
     },
     "output_type": "display_data"
    }
   ],
   "source": [
    "fig_3var2 = sns.relplot(x=\"ActualElapsedTime\", y=\"CRSElapsedTime\", hue=\"UniqueCarrier\", data=df_flights_copia);"
   ]
  },
  {
   "cell_type": "markdown",
   "id": "a7d37ad1",
   "metadata": {},
   "source": [
    "#### Més de tres variables (CRSArrTime, CRSDelayTime, CRSElapsedTime i UniqueCarrier)."
   ]
  },
  {
   "cell_type": "code",
   "execution_count": null,
   "id": "68ca919a",
   "metadata": {
    "scrolled": false
   },
   "outputs": [],
   "source": [
    "#sns.catplot(x='ArrTime', y='DepTime', hue='ActualElapsedTime', col='UniqueCarrier', kind='violin', data=df_flights_copia[df_flights_copia['CRSArrTime'] - df_flights_copia['CRSDepTime'] > df_flights_copia['CRSElapsedTime']]);"
   ]
  },
  {
   "cell_type": "code",
   "execution_count": null,
   "id": "a41c4bee",
   "metadata": {},
   "outputs": [],
   "source": [
    "sns.set_theme(style=\"ticks\")\n",
    "\n",
    "# Create a dataset with many short random walks\n",
    "rs = np.random.RandomState(4)\n",
    "pos = df_flights_copia['CRSArrTime']\n",
    "pos -= pos[:, 0, np.newaxis]\n",
    "step = df_flights_copia['CRSArrTime']\n",
    "walk = df_flights_copia['UniqueCarrier'].unique()\n",
    "\n",
    "# Initialize a grid of plots with an Axes for each walk\n",
    "grid = sns.FacetGrid(df_flights_copia, col=\"walk\", hue=\"walk\", palette=\"tab20c\",\n",
    "                     col_wrap=4, height=1.5)\n",
    "\n",
    "# Draw a horizontal line to show the starting point\n",
    "grid.refline(y=0, linestyle=\":\")\n",
    "\n",
    "# Adjust the tick positions and labels\n",
    "grid.set(xticks=np.arange(5), yticks=[-3, 3],\n",
    "         xlim=(-.5, 4.5), ylim=(-3.5, 3.5))\n",
    "\n",
    "# Adjust the arrangement of the plots\n",
    "grid.fig.tight_layout(w_pad=1)"
   ]
  },
  {
   "cell_type": "markdown",
   "id": "09354d98",
   "metadata": {},
   "source": [
    "### * Exercici 2\n",
    "\n",
    "Exporta els gràfics com imatges o com html."
   ]
  },
  {
   "cell_type": "code",
   "execution_count": 1,
   "id": "49e7924c",
   "metadata": {},
   "outputs": [
    {
     "ename": "NameError",
     "evalue": "name 'fig_1varC' is not defined",
     "output_type": "error",
     "traceback": [
      "\u001b[1;31m---------------------------------------------------------------------------\u001b[0m",
      "\u001b[1;31mNameError\u001b[0m                                 Traceback (most recent call last)",
      "\u001b[1;32m<ipython-input-1-e5cf8d98a825>\u001b[0m in \u001b[0;36m<module>\u001b[1;34m\u001b[0m\n\u001b[0;32m      1\u001b[0m \u001b[1;31m#fig_1varC = plt.pie(df_companyies, autopct=\"%0.1f %%\", labels=df_flights_copia['UniqueCarrier'].unique())\u001b[0m\u001b[1;33m\u001b[0m\u001b[1;33m\u001b[0m\u001b[1;33m\u001b[0m\u001b[0m\n\u001b[1;32m----> 2\u001b[1;33m \u001b[0mfig_1varC\u001b[0m\u001b[1;33m.\u001b[0m\u001b[0msavefig\u001b[0m\u001b[1;33m(\u001b[0m\u001b[1;34m'fig_1varC.png'\u001b[0m\u001b[1;33m,\u001b[0m \u001b[0mdpi\u001b[0m\u001b[1;33m=\u001b[0m\u001b[1;36m120\u001b[0m\u001b[1;33m)\u001b[0m\u001b[1;33m\u001b[0m\u001b[1;33m\u001b[0m\u001b[0m\n\u001b[0m",
      "\u001b[1;31mNameError\u001b[0m: name 'fig_1varC' is not defined"
     ]
    }
   ],
   "source": [
    "#fig_1varC = plt.pie(df_companyies, autopct=\"%0.1f %%\", labels=df_flights_copia['UniqueCarrier'].unique())\n",
    "fig_1varC.savefig('fig_1varC.png', dpi=120)"
   ]
  },
  {
   "cell_type": "code",
   "execution_count": 2,
   "id": "ba89c993",
   "metadata": {},
   "outputs": [
    {
     "ename": "NameError",
     "evalue": "name 'fig_1varN' is not defined",
     "output_type": "error",
     "traceback": [
      "\u001b[1;31m---------------------------------------------------------------------------\u001b[0m",
      "\u001b[1;31mNameError\u001b[0m                                 Traceback (most recent call last)",
      "\u001b[1;32m<ipython-input-2-a721f82508b4>\u001b[0m in \u001b[0;36m<module>\u001b[1;34m\u001b[0m\n\u001b[0;32m      1\u001b[0m \u001b[1;31m#fig_1varN = df_flights_copia[\"ActualElapsedTime\"].value_counts().plot(kind='hist');\u001b[0m\u001b[1;33m\u001b[0m\u001b[1;33m\u001b[0m\u001b[1;33m\u001b[0m\u001b[0m\n\u001b[1;32m----> 2\u001b[1;33m \u001b[0mfig_1varN\u001b[0m\u001b[1;33m.\u001b[0m\u001b[0msavefig\u001b[0m\u001b[1;33m(\u001b[0m\u001b[1;34m'fig_1varN.png'\u001b[0m\u001b[1;33m,\u001b[0m \u001b[0mdpi\u001b[0m\u001b[1;33m=\u001b[0m\u001b[1;36m120\u001b[0m\u001b[1;33m)\u001b[0m\u001b[1;33m\u001b[0m\u001b[1;33m\u001b[0m\u001b[0m\n\u001b[0m",
      "\u001b[1;31mNameError\u001b[0m: name 'fig_1varN' is not defined"
     ]
    }
   ],
   "source": [
    "#fig_1varN = df_flights_copia[\"ActualElapsedTime\"].value_counts().plot(kind='hist');\n",
    "fig_1varN.savefig('fig_1varN.png', dpi=120)"
   ]
  },
  {
   "cell_type": "code",
   "execution_count": null,
   "id": "a3319822",
   "metadata": {},
   "outputs": [],
   "source": [
    "#fig_2var1 = sns.barplot(y=\"UniqueCarrier\", x=\"ArrDelay\", data=df_flights_copia)\n",
    "sfig = fig_2var11.get_figure()\n",
    "sfig.savefig('fig_2var1.png')   #,  orientation=\"landscape\")"
   ]
  },
  {
   "cell_type": "code",
   "execution_count": null,
   "id": "40aeb422",
   "metadata": {},
   "outputs": [],
   "source": [
    "#fig_2var1 = sns.barplot(y=\"UniqueCarrier\", x=\"ArrDelay\", data=df_flights_copia)\n",
    "sfig = fig_2var12.get_figure()\n",
    "sfig.savefig('fig_2var1.png')   #,  orientation=\"landscape\")"
   ]
  },
  {
   "cell_type": "code",
   "execution_count": null,
   "id": "ecdb7c1c",
   "metadata": {},
   "outputs": [],
   "source": [
    "#fig_2var1 = sns.barplot(y=\"UniqueCarrier\", x=\"ArrDelay\", data=df_flights_copia)\n",
    "sfig = fig_2var13.get_figure()\n",
    "sfig.savefig('fig_2var1.png')   #,  orientation=\"landscape\")"
   ]
  },
  {
   "cell_type": "code",
   "execution_count": null,
   "id": "ecba15ca",
   "metadata": {},
   "outputs": [],
   "source": [
    "\n",
    "#fig_2var2 = sns.barplot(y=\"UniqueCarrier\", x=\"DepDelay\", data=df_flights_copia)\n",
    "sfig = fig_2var21.get_figure()\n",
    "sfig.savefig('fig_2var2.png')   #,  orientation=\"landscape\")"
   ]
  },
  {
   "cell_type": "code",
   "execution_count": null,
   "id": "74e8c73f",
   "metadata": {},
   "outputs": [],
   "source": [
    "\n",
    "#fig_2var2 = sns.barplot(y=\"UniqueCarrier\", x=\"DepDelay\", data=df_flights_copia)\n",
    "sfig = fig_2var22.get_figure()\n",
    "sfig.savefig('fig_2var2.png')   #,  orientation=\"landscape\")"
   ]
  },
  {
   "cell_type": "code",
   "execution_count": null,
   "id": "536f5c6e",
   "metadata": {},
   "outputs": [],
   "source": [
    "\n",
    "#fig_3var = sns.relplot(x=\"ArrDelay\", y=\"DepDelay\", hue=\"UniqueCarrier\", data=df_flights_copia);\n",
    "sfig = fig_3var.get_figure()\n",
    "sfig.savefig('fig_3var.png')   #,  orientation=\"landscape\")"
   ]
  },
  {
   "cell_type": "markdown",
   "id": "b9ee2f1c",
   "metadata": {},
   "source": [
    "### * Exercici 3\n",
    "\n",
    "Integra les visualitzacions gràfiques, en la tasca 5, de l'Sprint 2."
   ]
  },
  {
   "cell_type": "markdown",
   "id": "95fc01ca",
   "metadata": {},
   "source": [
    "En serio??? Impossible... no tinc Ram per processar-ho tot junt... m'ho acceptes?"
   ]
  }
 ],
 "metadata": {
  "kernelspec": {
   "display_name": "Python 3",
   "language": "python",
   "name": "python3"
  },
  "language_info": {
   "codemirror_mode": {
    "name": "ipython",
    "version": 3
   },
   "file_extension": ".py",
   "mimetype": "text/x-python",
   "name": "python",
   "nbconvert_exporter": "python",
   "pygments_lexer": "ipython3",
   "version": "3.8.8"
  }
 },
 "nbformat": 4,
 "nbformat_minor": 5
}
